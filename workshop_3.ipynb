{
 "cells": [
  {
   "cell_type": "markdown",
   "metadata": {},
   "source": [
    "# Workshop 3 - Quality control for sequencing data\n",
    "\n",
    "Suppose you had a biological question of interest that could be solved by sequencing. You've received some funding to perform a sequencing run (lucky you!). The sample is run in a sequencing machine (you know a few kinds of sequencers from the sequencing technologies lecture) and you are delivered a file containing all of your reads. It's possible that there were problems, either with the sequencing reaction or with the starting materials. Before you perform your analysis and report your findings, you want to be sure that the data you have is of good quality. This is where quality control (QC) comes in.\n",
    "\n",
    "This week you will write your own code to perform QC on some real sequencing data.\n",
    "\n",
    "<br>\n",
    "\n",
    "## Task 0 - Getting set up for plotting in python\n",
    "\n",
    "There are three python libraries that we will be using to produce figures -  `numpy`, `pandas` and `matplotlib`.  \n",
    "\n",
    "All three are already installed on SWAN. `numpy` and `pandas` are used for data manipulation and processing, while `matplotlib` is used to plot and visualise your data.\n",
    "\n",
    "Check that they are installed by importing them.\n"
   ]
  },
  {
   "cell_type": "code",
   "execution_count": null,
   "metadata": {},
   "outputs": [],
   "source": [
    "import pandas as pd\n",
    "import numpy as np\n",
    "import matplotlib.pyplot as plt"
   ]
  },
  {
   "cell_type": "code",
   "execution_count": null,
   "metadata": {},
   "outputs": [],
   "source": [
    "# You can install them on your personal machine with the following conda or pip commands.\n",
    "\n",
    "# conda install numpy pandas\n",
    "# pip install numpy pandas\n",
    "# pip install matplotlib\n",
    "# conda install -c conda-forge matplotlib"
   ]
  },
  {
   "cell_type": "markdown",
   "metadata": {},
   "source": [
    "<br>\n",
    "\n",
    "If you are new to `pandas`, this tutorial below will help. It is also available under the additional resources module on the LMS.\n",
    "> http://pandas.pydata.org/pandas-docs/stable/getting_started/10min.html\n",
    "\n",
    "We use the `matplotlib` library to create simple plots. You can learn more about `matplotlib` using the link below. The link is also available on the additional resources module on the LMS.\n",
    ">https://matplotlib.org/tutorials/introductory/usage.html#sphx-glr-tutorials-introductory-usage-py\n",
    "\n",
    "The following tutorial shows how `pandas`, `numpy` and `matplotlib` can be used together.\n",
    "> https://www.kaggle.com/chats351/introduction-to-numpy-pandas-and-matplotlib"
   ]
  },
  {
   "cell_type": "markdown",
   "metadata": {},
   "source": [
    "<br>\n",
    "\n",
    "## Task 1 - Reading in the read set\n",
    "\n",
    "First, we read in some sample reads. The reads in `ERR024571_selected.fastq` are a selection of 800 reads from the ERR024571 read set.\n",
    "\n",
    "Note that converting a readset into a list of `skbio` objects makes it easier to handle.\n",
    "\n",
    "The data originates from a *Yersinia enterocolitica* sample, a bacterial species that causes yersiniosis in humans.\n",
    "\n",
    "<br>\n"
   ]
  },
  {
   "cell_type": "code",
   "execution_count": null,
   "metadata": {},
   "outputs": [],
   "source": [
    "import skbio"
   ]
  },
  {
   "cell_type": "code",
   "execution_count": null,
   "metadata": {},
   "outputs": [],
   "source": [
    "fname = 'ERR024571_selected.fastq' \n",
    "registry = skbio.io.read(fname, format = 'fastq', phred_offset = 33)\n",
    "\n",
    "readset = list(registry)"
   ]
  },
  {
   "cell_type": "markdown",
   "metadata": {},
   "source": [
    "<br>\n",
    "We can use the len function to find the number of reads in the readset."
   ]
  },
  {
   "cell_type": "code",
   "execution_count": null,
   "metadata": {},
   "outputs": [],
   "source": [
    "len(readset)"
   ]
  },
  {
   "cell_type": "markdown",
   "metadata": {},
   "source": [
    "And to find the length of the first read in the readset."
   ]
  },
  {
   "cell_type": "code",
   "execution_count": null,
   "metadata": {},
   "outputs": [],
   "source": [
    "len(readset[0])"
   ]
  },
  {
   "cell_type": "markdown",
   "metadata": {},
   "source": [
    "\n",
    "More can be read about these skbio objects here:\n",
    "> http://scikit-bio.org/docs/0.5.0/generated/skbio.sequence.DNA.html#skbio.sequence.DNA"
   ]
  },
  {
   "cell_type": "markdown",
   "metadata": {},
   "source": [
    "<br>\n",
    "\n",
    "## Task 2 - Compute per-sequence quality scores\n",
    "\n",
    "The per-sequence quality is simply the average of the base quality scores in a sequence."
   ]
  },
  {
   "cell_type": "code",
   "execution_count": null,
   "metadata": {},
   "outputs": [],
   "source": [
    "# Display the quality scores for the first 10 bases of the first read.\n",
    "r1_meta = readset[0].positional_metadata\n",
    "r1_meta.head(10)"
   ]
  },
  {
   "cell_type": "markdown",
   "metadata": {},
   "source": [
    "### Crash course on `pandas` and `numpy`\n",
    "\n",
    "The output of the code above is a data frame object. Most data can be stored in data frames and there are many functions to process them available in the `pandas` library. \n",
    "\n",
    "The `numpy` library stores data in `numpy` arrays, which can range from being one-dimensional vectors or multi-dimensional matrices. A `pandas` data frame is equivalent to a 2-dimensional `numpy` array with named rows and columns. While `numpy` arrays are more memory efficient, `pandas` dataframes have other advantages such as named rows and columns.\n",
    "\n",
    "We will first try out a few indexing operations.\n"
   ]
  },
  {
   "cell_type": "code",
   "execution_count": null,
   "metadata": {},
   "outputs": [],
   "source": [
    "import pandas as pd\n",
    "import numpy as np\n",
    "\n",
    "# All of these indexes give the same results. Think of the data frame as a 2-D matrix.\n",
    "# Here we retrieve data using .iloc\n",
    "\n",
    "print(r1_meta.iloc[:3,])\n",
    "print(r1_meta.iloc[0:3, 0:1])\n",
    "print(r1_meta.iloc[0:3, :])\n",
    "print(r1_meta.iloc[0:3,])"
   ]
  },
  {
   "cell_type": "markdown",
   "metadata": {},
   "source": [
    "Above we use positional information along the data frame (i.e. rows 0:3 and column 0:1). \n",
    "\n",
    "Instead, we can index rows and columns using *row names* and *column names* with `pandas`. \n",
    "In the example below, 0:2 refers to the rows with names '0', '1', and '2' and the column with the name 'quality'. \n",
    "\n"
   ]
  },
  {
   "cell_type": "code",
   "execution_count": null,
   "metadata": {},
   "outputs": [],
   "source": [
    "# Here we retrieve data using names with loc. 0, 1, and 2 are row names rather than indexes.\n",
    "print(r1_meta.loc[0:2, 'quality'])"
   ]
  },
  {
   "cell_type": "markdown",
   "metadata": {},
   "source": [
    "Because we selected just one column a one-dimensional vector was returned. \n",
    "\n",
    "When using `pandas` this object is called a `pandas` series, which is equivalent to a one-dimensional `numpy` array."
   ]
  },
  {
   "cell_type": "code",
   "execution_count": null,
   "metadata": {},
   "outputs": [],
   "source": [
    "print(type(r1_meta.loc[0:2, 'quality']))\n",
    "print(type(np.asarray(r1_meta.loc[0:2, 'quality'])))"
   ]
  },
  {
   "cell_type": "markdown",
   "metadata": {},
   "source": [
    "<br>\n",
    "\n",
    "If we retrieve the entire `quality` column, we can subset it obtain the base quality at any position."
   ]
  },
  {
   "cell_type": "code",
   "execution_count": null,
   "metadata": {},
   "outputs": [],
   "source": [
    "# Retrieve the base quality at position 3. Remember that Python is zero indexed!\n",
    "r1_qualities = r1_meta.loc[:, 'quality']\n",
    "r1_qualities[2]"
   ]
  },
  {
   "cell_type": "markdown",
   "metadata": {},
   "source": [
    "<br>\n",
    "\n",
    "### Now to compute the quality of a sequence\n",
    "\n",
    "We can now write a function to compute the sequence quality of a given sequence using a for loop and the `.positional_metadata` method."
   ]
  },
  {
   "cell_type": "code",
   "execution_count": null,
   "metadata": {},
   "outputs": [],
   "source": [
    "def read_quality_with_loop(read):\n",
    "    \"\"\"\n",
    "    Compute the quality of a given read (DNA sequence).\n",
    "    This is the average of base qualities.\n",
    "    Return a single floating point number.\n",
    "    \"\"\"\n",
    "\n"
   ]
  },
  {
   "cell_type": "code",
   "execution_count": null,
   "metadata": {},
   "outputs": [],
   "source": [
    "print(read_quality_with_loop(readset[0])) # should give 27.36\n",
    "print(read_quality_with_loop(readset[2])) # should give 26.35"
   ]
  },
  {
   "cell_type": "markdown",
   "metadata": {},
   "source": [
    "<br>\n",
    "\n",
    "Using functions from within the `numpy` library can be simpler to write and run considerably faster. \n",
    "\n",
    "Try computing the sequence quality of a given sequence **without** a for loop, using the `np.mean()` function."
   ]
  },
  {
   "cell_type": "code",
   "execution_count": null,
   "metadata": {},
   "outputs": [],
   "source": [
    "def read_quality(read):\n",
    "    \"\"\"\n",
    "    Compute the quality of a given read (DNA sequence).\n",
    "    This is the average of base qualities.\n",
    "    Return a single number representing the quality\n",
    "    \"\"\"\n",
    "    "
   ]
  },
  {
   "cell_type": "code",
   "execution_count": null,
   "metadata": {},
   "outputs": [],
   "source": [
    "print(read_quality(readset[0])) # should also give 27.36"
   ]
  },
  {
   "cell_type": "markdown",
   "metadata": {},
   "source": [
    "<br>\n",
    "\n",
    "## Task 3 - Compute and visualise the per-sequence quality distribution\n",
    "\n",
    "We will compute per-sequence qualities for all reads and compute a sequence quality histogram. A histogram visualises the distribution of data by binning the data values into intervals of equal widths and visualising the frequency of values in each bin. \n",
    "\n",
    "First, you should divide the range of values into equal intervals. These intervals should be non-overlapping integers. Here we would like bins with a width of 1.  \n",
    "i.e. For a given integer \\$i\\$, the interval (bin) should be \\$[i, i + 1)\\$. This means including \\$i\\$ but excluding \\$i + 1\\$.\n",
    "\n",
    "\n",
    "Second, you need to count up the frequency of values that fall into each bin. We can represent this histogram data as a dictionary. Keys in the dictionary will be \\$i\\$ and the values will be the total number of quality scores that fall in the interval \\$[i, i + 1)\\$.\n",
    "\n",
    "\n",
    "When defining your bins, the `np.floor()` function can be be used to round down quality scores to the nearest integer."
   ]
  },
  {
   "cell_type": "code",
   "execution_count": null,
   "metadata": {},
   "outputs": [],
   "source": [
    "print(np.floor(30.01))\n",
    "print(np.floor(30.99))"
   ]
  },
  {
   "cell_type": "code",
   "execution_count": null,
   "metadata": {},
   "outputs": [],
   "source": [
    "def read_histogram_dict(reads):\n",
    "    \"\"\"\n",
    "    Compute a dictionary representing the histogram\n",
    "    Keys are the starting point of the interval\n",
    "    Values are the number of items in the interval\n",
    "    \"\"\"\n"
   ]
  },
  {
   "cell_type": "code",
   "execution_count": null,
   "metadata": {},
   "outputs": [],
   "source": [
    "read_histogram_dict(readset[0:4]) # should give {27.0: 2, 28.0: 1, 26.0: 1}"
   ]
  },
  {
   "cell_type": "markdown",
   "metadata": {},
   "source": [
    "<br>\n",
    "\n",
    "Now that we have the histogram data as a dictionary, let's get to plotting! \n"
   ]
  },
  {
   "cell_type": "code",
   "execution_count": null,
   "metadata": {},
   "outputs": [],
   "source": [
    "%matplotlib inline\n",
    "import matplotlib.pyplot as plt\n",
    "\n",
    "hist_data = read_histogram_dict(readset)\n",
    "plt.scatter(hist_data.keys(), hist_data.values())\n",
    "plt.xlabel('Phred quality score')\n",
    "plt.ylabel('Frequency')\n",
    "plt.show()"
   ]
  },
  {
   "cell_type": "markdown",
   "metadata": {},
   "source": [
    "<br>\n",
    "\n",
    "Alternatively, you could directly use the `plt.hist()` function in `matplotlib`.\n",
    "\n",
    "This function takes the data values you want to bin, and the intervals you want to put them in. But you should provide the bins in order with `sorted()`.\n"
   ]
  },
  {
   "cell_type": "code",
   "execution_count": null,
   "metadata": {},
   "outputs": [],
   "source": [
    "%matplotlib inline\n",
    "import matplotlib.pyplot as plt\n",
    "\n",
    "# Get the read qualities\n",
    "read_qualities = [read_quality(r) for r in readset]\n",
    "\n",
    "# Define the intervals [i,i+1)\n",
    "distribution_keys = [np.floor(r) for r in read_qualities]\n",
    "\n",
    "# Include the upper bound of the last interval\n",
    "# distribution_keys.append(max(sorted(distribution_keys))+1)\n",
    "\n",
    "# Plot\n",
    "plt.hist(read_qualities, sorted(distribution_keys))\n",
    "plt.xlabel('Phred quality score')\n",
    "plt.ylabel('Frequency')\n",
    "plt.show()"
   ]
  },
  {
   "cell_type": "markdown",
   "metadata": {},
   "source": [
    "<br>\n",
    "\n",
    "We can also change the colour, overlay lines, and edit the appearance of the plot. \n",
    "\n",
    "Change some of the arguments (`fontsize`, `labelpad` or `color`) below to see what effect they have."
   ]
  },
  {
   "cell_type": "code",
   "execution_count": null,
   "metadata": {},
   "outputs": [],
   "source": [
    "%matplotlib inline\n",
    "import matplotlib.pyplot as plt\n",
    "\n",
    "# Plot\n",
    "plt.hist(read_qualities, sorted(distribution_keys), color=\"skyblue\")\n",
    "plt.xlabel('Phred quality score', fontsize=14)\n",
    "plt.ylabel('Frequency', fontsize=14, labelpad=12)\n",
    "plt.axvline(x=20,linewidth=1, color='r')\n",
    "plt.show()"
   ]
  },
  {
   "cell_type": "markdown",
   "metadata": {},
   "source": [
    "<br>\n",
    "\n",
    "You can also make other plot types, like boxplots."
   ]
  },
  {
   "cell_type": "code",
   "execution_count": null,
   "metadata": {},
   "outputs": [],
   "source": [
    "%matplotlib inline\n",
    "import matplotlib.pyplot as plt\n",
    "\n",
    "# Plot\n",
    "plt.boxplot(read_qualities, vert=False)\n",
    "plt.xlabel('Phred quality score', fontsize=14, labelpad=12)\n",
    "plt.yticks([])\n",
    "plt.show()"
   ]
  },
  {
   "cell_type": "markdown",
   "metadata": {},
   "source": [
    "<br>\n",
    "\n",
    "The documentation for these functions can be found here:\n",
    "> https://matplotlib.org/stable/api/_as_gen/matplotlib.pyplot.scatter.html\n",
    "\n",
    "> https://matplotlib.org/stable/api/_as_gen/matplotlib.pyplot.hist.html\n",
    "\n",
    "> https://matplotlib.org/3.1.1/api/_as_gen/matplotlib.pyplot.boxplot.html\n",
    "\n",
    "A list of colour names can be found here:\n",
    "> https://matplotlib.org/stable/gallery/color/named_colors.html"
   ]
  },
  {
   "cell_type": "markdown",
   "metadata": {},
   "source": [
    "<br>\n",
    "\n",
    "## Task 4 - Using FastQC for quality control\n",
    "\n",
    "The above analysis and more can be performed using the FastQC tool. \n",
    "\n",
    "FastQC is installed on SWAN.\n",
    "If you wish to install FastQC on a (Mac or Linux) personal device, use the conda command `conda install -c bioconda fastqc`.\n",
    "\n",
    "\n",
    "The documentation for FastQC can be found here:\n",
    "> https://www.bioinformatics.babraham.ac.uk/projects/fastqc/"
   ]
  },
  {
   "cell_type": "markdown",
   "metadata": {},
   "source": [
    "**Please execute the command below to run FastQC.**"
   ]
  },
  {
   "cell_type": "code",
   "execution_count": null,
   "metadata": {},
   "outputs": [],
   "source": [
    "# Run FastQC on the ERR024571_1 dataset.\n",
    "!fastqc -o ./ ERR024571_1.fastq.gz"
   ]
  },
  {
   "cell_type": "markdown",
   "metadata": {},
   "source": [
    "The FastQC report can be viewed by right clicking the file ERR024571_1_fastqc.html and selecting *Open in New Browser Tab*"
   ]
  },
  {
   "cell_type": "markdown",
   "metadata": {},
   "source": [
    "\n",
    "###  What does this all mean?\n",
    "\n",
    "The report provides information about several QC metrics.\n",
    "\n",
    "You should refer to this documentation to help you figure out what some of the metrics mean: \n",
    ">https://dnacore.missouri.edu/PDF/FastQC_Manual.pdf\n",
    "\n",
    "\n",
    "There is also a FastQC report explanation video on the LMS in the week 3 module.\n",
    "\n",
    "<br>\n",
    "\n",
    "\n",
    "### Try answering some of these questions:\n",
    "\n",
    "<br>\n",
    "\n",
    "1. How many reads are in the read set?"
   ]
  },
  {
   "cell_type": "markdown",
   "metadata": {},
   "source": [
    " "
   ]
  },
  {
   "cell_type": "markdown",
   "metadata": {},
   "source": [
    "2. How long are the reads?"
   ]
  },
  {
   "cell_type": "markdown",
   "metadata": {},
   "source": [
    " "
   ]
  },
  {
   "cell_type": "markdown",
   "metadata": {},
   "source": [
    "3. Are all the reads the same length?"
   ]
  },
  {
   "cell_type": "markdown",
   "metadata": {},
   "source": [
    "  "
   ]
  },
  {
   "cell_type": "markdown",
   "metadata": {},
   "source": [
    "4. How are the quality scores distributed across the length of the reads?"
   ]
  },
  {
   "cell_type": "markdown",
   "metadata": {},
   "source": [
    "  "
   ]
  },
  {
   "cell_type": "markdown",
   "metadata": {},
   "source": [
    "5. Are there any overrepresented sequences?"
   ]
  },
  {
   "cell_type": "markdown",
   "metadata": {},
   "source": [
    "  "
   ]
  },
  {
   "cell_type": "markdown",
   "metadata": {},
   "source": [
    "6. What is the likely source of the overrepresented sequences?"
   ]
  },
  {
   "cell_type": "markdown",
   "metadata": {},
   "source": [
    "  "
   ]
  },
  {
   "cell_type": "markdown",
   "metadata": {},
   "source": [
    "7. Overall, is this read set of acceptable quality?"
   ]
  },
  {
   "cell_type": "markdown",
   "metadata": {},
   "source": [
    "  "
   ]
  },
  {
   "cell_type": "markdown",
   "metadata": {},
   "source": [
    "<br>\n",
    "\n",
    "### Some comments about quality control\n",
    "\n",
    "<br>"
   ]
  },
  {
   "cell_type": "markdown",
   "metadata": {},
   "source": [
    "What we have covered in this workshop is just one layer of quality control. \n",
    "\n",
    "Further QC would need to be done, depending on the type of analysis. QC should form an important component of all analyses. Ultimately, it can save a lot of time and effort!\n"
   ]
  },
  {
   "cell_type": "markdown",
   "metadata": {},
   "source": [
    "\n",
    "FastQC outputs a report for an individual FASTQ file. If you are dealing with multiple read sets in your own projects, MultiQC provides a summary of all FastQC reports. See https://multiqc.info/ and have a look at the example reports."
   ]
  },
  {
   "cell_type": "markdown",
   "metadata": {},
   "source": [
    "<br>\n",
    "\n",
    "`Workshop developed by Steven Morgan, Dr Dieter Bulach, Dharmesh Bhuva and Holly Whitfield.`"
   ]
  }
 ],
 "metadata": {
  "kernelspec": {
   "display_name": "Python 3",
   "language": "python",
   "name": "python3"
  },
  "language_info": {
   "codemirror_mode": {
    "name": "ipython",
    "version": 3
   },
   "file_extension": ".py",
   "mimetype": "text/x-python",
   "name": "python",
   "nbconvert_exporter": "python",
   "pygments_lexer": "ipython3",
   "version": "3.7.6"
  }
 },
 "nbformat": 4,
 "nbformat_minor": 4
}
