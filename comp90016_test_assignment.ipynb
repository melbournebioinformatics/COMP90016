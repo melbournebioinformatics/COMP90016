{
 "cells": [
  {
   "cell_type": "markdown",
   "metadata": {
    "deletable": false,
    "editable": false,
    "nbgrader": {
     "cell_type": "markdown",
     "checksum": "fcd8eb18b195d7647f8cc7642c1caee3",
     "grade": false,
     "grade_id": "cell-88ce52fdb06971f9",
     "locked": true,
     "schema_version": 3,
     "solution": false,
     "task": false
    }
   },
   "source": [
    "Cells that must be completed to receive marks are labelled like this:\n",
    "\n",
    "`# -- GRADED CELL (1 mark) - complete this cell --`\n",
    "\n",
    "Some graded cells are code cells, in which you must complete the code to solve a problem. Other graded cells are markdown cells, in which you must write your answers to short-answer questions. \n",
    "\n",
    "You will see the following text in graded code cells:\n",
    "\n",
    "```\n",
    "# YOUR CODE HERE\n",
    "raise NotImplementedError()\n",
    "```\n",
    "\n",
    "***You must remove the `raise NotImplementedError()` line from the cell, and replace it with your solution.***\n"
   ]
  },
  {
   "cell_type": "markdown",
   "metadata": {
    "deletable": false,
    "editable": false,
    "nbgrader": {
     "cell_type": "markdown",
     "checksum": "95c50956183bb4aedd635788d70ed282",
     "grade": false,
     "grade_id": "cell-d486b4e261ee607c",
     "locked": true,
     "schema_version": 3,
     "solution": false,
     "task": false
    }
   },
   "source": [
    "Only graded cells will be marked.\n",
    "**Don't make changes outside graded cells, and don't add or remove cells from the notebook**."
   ]
  },
  {
   "cell_type": "markdown",
   "metadata": {
    "deletable": false,
    "editable": false,
    "nbgrader": {
     "cell_type": "markdown",
     "checksum": "d7f15062a2ad9f7e0e1cf1ee9d0e5dba",
     "grade": false,
     "grade_id": "cell-5d26126e3ec5ec6d",
     "locked": true,
     "schema_version": 3,
     "solution": false,
     "task": false
    }
   },
   "source": [
    "Before you turn this assignment in, make sure everything runs as expected. First, **restart the kernel** (in the menubar, select Kernel$\\rightarrow$Restart) and then **run all cells** (in the menubar, select Cell$\\rightarrow$Run All).\n",
    "\n",
    "Make sure you fill in any place that says `YOUR CODE HERE` or \"YOUR ANSWER HERE\", as well as your name and student ID number below:"
   ]
  },
  {
   "cell_type": "code",
   "execution_count": null,
   "metadata": {},
   "outputs": [],
   "source": [
    "NAME = \"\"\n",
    "ID = \"\""
   ]
  },
  {
   "cell_type": "markdown",
   "metadata": {
    "deletable": false,
    "editable": false,
    "nbgrader": {
     "cell_type": "markdown",
     "checksum": "c117e904c45f5e4793cab01100562435",
     "grade": false,
     "grade_id": "cell-54c9fa684efeaa14",
     "locked": true,
     "schema_version": 3,
     "solution": false,
     "task": false
    }
   },
   "source": [
    "# COMP90016 - Practice Assignment\n",
    "\n"
   ]
  },
  {
   "cell_type": "markdown",
   "metadata": {
    "deletable": false,
    "editable": false,
    "nbgrader": {
     "cell_type": "markdown",
     "checksum": "de87fb4b5342a20bf44a9d9c4bafc11e",
     "grade": false,
     "grade_id": "cell-54a3146c8393ea3c",
     "locked": true,
     "schema_version": 3,
     "solution": false,
     "task": false
    }
   },
   "source": [
    "Version 1. Last edited 07/3/2022."
   ]
  },
  {
   "cell_type": "markdown",
   "metadata": {
    "deletable": false,
    "editable": false,
    "nbgrader": {
     "cell_type": "markdown",
     "checksum": "9f1b740df0fe56aef1411ec34c6a5b9c",
     "grade": false,
     "grade_id": "cell-eff8bb1c51ed0d2d",
     "locked": true,
     "schema_version": 3,
     "solution": false,
     "task": false
    }
   },
   "source": [
    "This practice assignment has been developed so you can trial the assignment submision process. Please submit your completed assignment through turnitin on the LMS as both a Jupyter notebook file and an HTML file. Note that no other files or formats will be accepted.\n",
    "\n",
    "## Marking\n",
    "\n",
    "This practice assignment is not worth any marks. It does not contribute to your final grade.\n",
    "\n",
    "## Background and data\n",
    "\n",
    "In this practice assignment, you will use the `skbio` library to parse a *FASTQ* file. You will then use the data to determine the number of reads in the readset. This is the only question.\n",
    "\n",
    "## Task 0 - Setup\n",
    "\n",
    "We begin by importing the `skbio` library. The `skbio.io.read` function reads the *FASTQ* file, applying an offset of 33 for the phred quality scores. The function returns a generator object which can be used to loop through the file, or simply converted to a list.\n",
    "\n",
    "The *FASTQ* file you will be using can be downloaded from the LMS. Download the file and place it in the same directory as this notebook. **DO NOT** rename the file. "
   ]
  },
  {
   "cell_type": "code",
   "execution_count": null,
   "metadata": {},
   "outputs": [],
   "source": [
    "# Import the skbio library.\n",
    "import skbio"
   ]
  },
  {
   "cell_type": "code",
   "execution_count": null,
   "metadata": {},
   "outputs": [],
   "source": [
    "# Read in the FASTQ file to produce a generator object named registry.\n",
    "fname = 'comp90016_test_assignment.fastq'\n",
    "registry = skbio.io.read(fname, format = 'fastq', phred_offset = 33)\n",
    "registry"
   ]
  },
  {
   "cell_type": "code",
   "execution_count": null,
   "metadata": {},
   "outputs": [],
   "source": [
    "# Append the reads from registry to a list named readset.\n",
    "readset = []\n",
    "for r in registry:\n",
    "    readset.append(r)"
   ]
  },
  {
   "cell_type": "markdown",
   "metadata": {
    "deletable": false,
    "editable": false,
    "nbgrader": {
     "cell_type": "markdown",
     "checksum": "a4c4cbfc7fad055d3d0502dba121b4c1",
     "grade": false,
     "grade_id": "cell-7094efc4716e7318",
     "locked": true,
     "schema_version": 3,
     "solution": false,
     "task": false
    }
   },
   "source": [
    "The resulting list is a list of `skbio.sequence.DNA` objects, which are used to access DNA sequences. As shown below, the object can store the sequence, quality scores, a sequence ID and basic statistics such as the sequence length."
   ]
  },
  {
   "cell_type": "code",
   "execution_count": null,
   "metadata": {},
   "outputs": [],
   "source": [
    "# View an individual skbio.sequence.DNA object from the readset list. \n",
    "# Try a different index to view a different read.\n",
    "readset[0]"
   ]
  },
  {
   "cell_type": "markdown",
   "metadata": {
    "deletable": false,
    "editable": false,
    "nbgrader": {
     "cell_type": "markdown",
     "checksum": "6d3fdd1499a1c26108f3543845da91f0",
     "grade": false,
     "grade_id": "cell-326b62405848a732",
     "locked": true,
     "schema_version": 3,
     "solution": false,
     "task": false
    }
   },
   "source": [
    "### Question 1.0\n",
    "Use the len() function to compute the number of reads in the readset.\n",
    "\n",
    "This is the only question in this practice assignment. Should give an output of 1420. "
   ]
  },
  {
   "cell_type": "code",
   "execution_count": null,
   "metadata": {
    "deletable": false,
    "nbgrader": {
     "cell_type": "code",
     "checksum": "3e3f076c895873d0982db7b385bb7893",
     "grade": false,
     "grade_id": "cell-8733e0234e876bca",
     "locked": false,
     "schema_version": 3,
     "solution": true,
     "task": false
    }
   },
   "outputs": [],
   "source": [
    "# GRADED CELL 1.0 (1 marks)\n",
    "\n",
    "# YOUR CODE HERE\n",
    "raise NotImplementedError()\n"
   ]
  },
  {
   "cell_type": "code",
   "execution_count": null,
   "metadata": {
    "deletable": false,
    "editable": false,
    "nbgrader": {
     "cell_type": "code",
     "checksum": "86440e51ab919bc324cbee64037a96b6",
     "grade": true,
     "grade_id": "cell-9f8b5a4b8d2e9e5e",
     "locked": true,
     "points": 1,
     "schema_version": 3,
     "solution": false,
     "task": false
    }
   },
   "outputs": [],
   "source": [
    "# --- AUTOGRADING CELL DO NOT EDIT ----\n"
   ]
  }
 ],
 "metadata": {
  "kernelspec": {
   "display_name": "Python 3",
   "language": "python",
   "name": "python3"
  },
  "language_info": {
   "codemirror_mode": {
    "name": "ipython",
    "version": 3
   },
   "file_extension": ".py",
   "mimetype": "text/x-python",
   "name": "python",
   "nbconvert_exporter": "python",
   "pygments_lexer": "ipython3",
   "version": "3.8.5"
  }
 },
 "nbformat": 4,
 "nbformat_minor": 4
}
