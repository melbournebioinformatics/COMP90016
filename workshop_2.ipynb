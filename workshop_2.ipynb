{
 "cells": [
  {
   "cell_type": "markdown",
   "metadata": {},
   "source": [
    "# Week 2 - Transcription & Translation\n",
    "\n",
    "In this workshop, we will be writing Python code to perform tasks related to transcription and translation in silico. The workshop has two parts: writing functions from scratch, and using existing implementations and data structures to store and process sequences.\n",
    "\n",
    "Previous Python experience is expected for COMP90016 students. However, if you need to review some coding concepts, there are guides to help you in the additional resources modules on the LMS.\n",
    "\n",
    "You may also want to refer back to workshop 1 for some tips on using Jupyter notebooks.\n",
    "\n",
    "These exercises build on the concepts presented in the first week of lectures. We recommend watching them before completing the workshop."
   ]
  },
  {
   "cell_type": "markdown",
   "metadata": {},
   "source": [
    "<br>\n",
    "\n",
    "## Task 1 - Compute the reverse complement\n",
    "\n",
    "First, we will write a script to determine the reverse complement of a given sequence. We begin by creating a dictionary of mappings.\n",
    "\n",
    "In this workshop we will not be considering the [extended DNA alphabet](http://www.bioinformatics.org/sms/iupac.html), only the 4 standard bases."
   ]
  },
  {
   "cell_type": "code",
   "execution_count": null,
   "metadata": {},
   "outputs": [],
   "source": [
    "complement_dict = {'A': 'T', 'T': 'A', 'C': 'G', 'G': 'C'}\n",
    "complement_dict['C']"
   ]
  },
  {
   "cell_type": "code",
   "execution_count": null,
   "metadata": {},
   "outputs": [],
   "source": [
    "dna_seq = 'ACTATTAAACCCATATAACCTCCCCCAAAATTCAGAATAATAAC'\n",
    "complement_seq = ''  # An empty string to store the reverse complement sequence.\n",
    "\n",
    "# Iterate through the bases of the DNA sequence and use the complement mapping dictionary to add the complementary bases to the rev_complement_seq string.\n",
    "for base in dna_seq:\n",
    "    complement_seq += complement_dict[base]\n",
    "    \n",
    "complement_seq"
   ]
  },
  {
   "cell_type": "markdown",
   "metadata": {},
   "source": [
    "This gives us the complement of `dna_seq`, but we still need to get the reverse. You can reverse a string using the code snippet `dna_seq[::-1]`. This is a shorter way to write `dna_seq[44::-1]` which means start at position 44, go all the way to the end (position 0 inclusive) and move with a step of -1 (step backwards). Try it out below."
   ]
  },
  {
   "cell_type": "code",
   "execution_count": null,
   "metadata": {},
   "outputs": [],
   "source": [
    "print(dna_seq)\n",
    "print(dna_seq[44::-1])\n",
    "print(dna_seq[::-1])"
   ]
  },
  {
   "cell_type": "code",
   "execution_count": null,
   "metadata": {},
   "outputs": [],
   "source": [
    "# Note: we do not modify the original DNA sequence variable. This allows it to be reused in other places.\n",
    "dna_seq"
   ]
  },
  {
   "cell_type": "markdown",
   "metadata": {},
   "source": [
    "We can apply this to `complement_seq` to get the reverse complement"
   ]
  },
  {
   "cell_type": "code",
   "execution_count": null,
   "metadata": {},
   "outputs": [],
   "source": [
    "complement_seq[::-1]"
   ]
  },
  {
   "cell_type": "markdown",
   "metadata": {},
   "source": [
    "All of this code can be combined and written as a function, so it can be reused."
   ]
  },
  {
   "cell_type": "code",
   "execution_count": null,
   "metadata": {},
   "outputs": [],
   "source": [
    "def rev_complement(seq):\n",
    "    \"\"\"\n",
    "    Compute the reverse complement of a given DNA sequence.\n",
    "    The input and output sequences should be DNA strings with capital letters. \n",
    "    \"\"\"\n",
    "    \n",
    "    complement_dict = {'A': 'T', 'T': 'A', 'C': 'G', 'G': 'C'}\n",
    "    complement_seq = ''\n",
    "    \n",
    "    # Iterate through the bases of the DNA sequence and use the complement mapping dictionary to add the complementary bases to the complement_seq string.\n",
    "    for base in seq:\n",
    "        complement_seq += complement_dict[base]\n",
    "        \n",
    "    rev_complement_seq = complement_seq[::-1]\n",
    "    \n",
    "    return rev_complement_seq"
   ]
  },
  {
   "cell_type": "code",
   "execution_count": null,
   "metadata": {},
   "outputs": [],
   "source": [
    "print(rev_complement('TAAAG')) # should give 'CTTTA'\n",
    "print(rev_complement(dna_seq))"
   ]
  },
  {
   "cell_type": "markdown",
   "metadata": {},
   "source": [
    "<br>\n",
    "\n",
    "## Task 2 - Transcribe DNA sequences\n",
    "\n",
    "Here, we trancribe a DNA sequence into an RNA-sequence. Write a function to transcribe a given DNA sequence. \n",
    "\n",
    "Note that when referring to the DNA sequence of a gene, we are referring to the coding strand by default."
   ]
  },
  {
   "cell_type": "code",
   "execution_count": null,
   "metadata": {},
   "outputs": [],
   "source": [
    "def transcribe(dna):\n",
    "    \"\"\"\n",
    "    Compute the transcript resulting from a DNA sequence.\n",
    "    The input and output sequences should be DNA strings with capital letters.\n",
    "    \"\"\"\n",
    "    \n",
    "    # your code here\n",
    "    "
   ]
  },
  {
   "cell_type": "code",
   "execution_count": null,
   "metadata": {},
   "outputs": [],
   "source": [
    "print(transcribe('ATAT')) # should give 'AUAU'\n",
    "print(transcribe(dna_seq))"
   ]
  },
  {
   "cell_type": "markdown",
   "metadata": {},
   "source": [
    "<br>\n",
    "\n",
    "## Task 3 - Translate DNA sequences\n",
    "\n",
    "As with task 1, we will be needing a dictionary to help us map codons to their respective amino acids. We first form the dictionary from a text-based codon table."
   ]
  },
  {
   "cell_type": "code",
   "execution_count": null,
   "metadata": {},
   "outputs": [],
   "source": [
    "# Note: * represents the stop codon and M the start codon\n",
    "base1 = 'TTTTTTTTTTTTTTTTCCCCCCCCCCCCCCCCAAAAAAAAAAAAAAAAGGGGGGGGGGGGGGGG'\n",
    "base2 = 'TTTTCCCCAAAAGGGGTTTTCCCCAAAAGGGGTTTTCCCCAAAAGGGGTTTTCCCCAAAAGGGG'\n",
    "base3 = 'TCAGTCAGTCAGTCAGTCAGTCAGTCAGTCAGTCAGTCAGTCAGTCAGTCAGTCAGTCAGTCAG'\n",
    "aa = 'FFLLSSSSYY**CC*WLLLLPPPPHHQQRRRRIIIMTTTTNNKKSSRRVVVVAAAADDEEGGGG'\n",
    "\n",
    "codon_map = {} # Build a codon map using this dictionary.\n",
    "\n",
    "# your code here\n",
    "\n",
    "codon_map"
   ]
  },
  {
   "cell_type": "markdown",
   "metadata": {},
   "source": [
    "Now, use your dictionary to compute the amino-acid sequence for the first reading frame (no offset in the sequence). You can use the `dict.get` function to return default values if the keys do not exist in the dictionary."
   ]
  },
  {
   "cell_type": "code",
   "execution_count": null,
   "metadata": {},
   "outputs": [],
   "source": [
    "def translate(dna, codon_dict):\n",
    "    \"\"\"\n",
    "    Translate a DNA sequence from the first reading frame, given a codon mapping dictionary.\n",
    "    Codons are keys and amino acids are values in this dictionary.\n",
    "    The input and output sequences should be DNA strings with capital letters.\n",
    "    \"\"\"\n",
    "    \n",
    "    # your code here\n",
    "    "
   ]
  },
  {
   "cell_type": "code",
   "execution_count": null,
   "metadata": {},
   "outputs": [],
   "source": [
    "print(translate('ATGATGA', codon_map)) # should give MM or MMX where X represents an incomplete codon\n",
    "print(translate(dna_seq, codon_map))"
   ]
  },
  {
   "cell_type": "markdown",
   "metadata": {},
   "source": [
    "Now, write a function that uses the above function to return the amino-acid sequence of all 6 reading frames. \n",
    "\n",
    "Hint: three reading frames will be from the reverse complement strand. "
   ]
  },
  {
   "cell_type": "code",
   "execution_count": null,
   "metadata": {},
   "outputs": [],
   "source": [
    "def six_rfs(dna, codon_dict):\n",
    "    \"\"\"\n",
    "    Return the amino-acid sequence from all six reading frames of a sequence.\n",
    "    This function should use the translate function implemented earlier.\n",
    "    Return the result as a list of size 6. The list should contain amino-acid strings with capital letters.\n",
    "    The input sequence should be a DNA string with capital letters.\n",
    "    \"\"\"\n",
    "    \n",
    "    # your code here\n",
    "    "
   ]
  },
  {
   "cell_type": "code",
   "execution_count": null,
   "metadata": {},
   "outputs": [],
   "source": [
    "# should give: (with or without the X)\n",
    "# 'TIKPI*PPPKFRIIX'\n",
    "# 'LLNPYNLPQNSE**X'\n",
    "# 'Y*THITSPKIQNNN'\n",
    "# 'VIILNFGGGYMGLIX'\n",
    "# 'LLF*ILGEVIWV**X'\n",
    "# 'YYSEFWGRLYGFNS'\n",
    "\n",
    "six_rfs(dna_seq, codon_map)"
   ]
  },
  {
   "cell_type": "markdown",
   "metadata": {},
   "source": [
    "<br>\n",
    "\n",
    "## Task 4 - the scikit-bio library\n",
    "\n",
    "All of the above tasks can be performed using functions from the `scikit-bio` library. It provides functions and methods to read and parse some popular file formats, and store and modify sequences.\n",
    "\n",
    "`scikit-bio` is already installed on SWAN. If you are running this notebook on SWAN, you can skip to the import cell.\n",
    "\n",
    "If you are using your (Mac or Linux) local computer, you will have to install it by using the cell below. Note that the ! allows us to use UNIX commands from inside a Jupyter notebook. Unfortunately, there is no `scikit-bio` version for Windows computers."
   ]
  },
  {
   "cell_type": "code",
   "execution_count": null,
   "metadata": {},
   "outputs": [],
   "source": [
    "# Uncomment and execute the line below to install scikit-bio on your local machine using pip\n",
    "#!pip install scikit-bio\n",
    "\n",
    "# Alternate conda installation command\n",
    "#!conda install -c conda-forge scikit-bio"
   ]
  },
  {
   "cell_type": "code",
   "execution_count": null,
   "metadata": {},
   "outputs": [],
   "source": [
    "# Import the library\n",
    "import skbio"
   ]
  },
  {
   "cell_type": "markdown",
   "metadata": {},
   "source": [
    "`scikit-bio`, like many Python libraries, uses an object oriented programming paradigm. As an example, a DNA sequence is treated as an object. All objects have properties and behaviours. Properties could be metadata such as the sequence ID of a DNA sequence or its quality. Behaviours could be accessing the transcribed or translated sequence. Properties and behaviours are referred to as *attributes* and *methods* in Python."
   ]
  },
  {
   "cell_type": "code",
   "execution_count": null,
   "metadata": {},
   "outputs": [],
   "source": [
    "# Define an skbio.sequence.DNA object using the same test sequence we used above.\n",
    "# Note the additional statistics that are computed by default.\n",
    "\n",
    "dna_seq_skbio = skbio.sequence.DNA(dna_seq)\n",
    "dna_seq_skbio"
   ]
  },
  {
   "cell_type": "code",
   "execution_count": null,
   "metadata": {},
   "outputs": [],
   "source": [
    "# The alphabet used to encode a DNA sequence is an attribute of the skbio.sequence.DNA object.\n",
    "dna_seq_skbio.alphabet"
   ]
  },
  {
   "cell_type": "markdown",
   "metadata": {},
   "source": [
    "<br>\n",
    "\n",
    "## Task 5 - skbio.sequence.DNA object methods\n",
    "\n",
    "Next we will load the sequence of a bacterial *dnaA* gene from a FASTA file in your data directory using the `skbio.io.read` function. Type `?skbio.io.read` in a code cell to access the help page for this function.\n",
    "\n",
    "A FASTA file stores sequence information. It is a common filetype that you will learn more about in lecture 6."
   ]
  },
  {
   "cell_type": "code",
   "execution_count": null,
   "metadata": {},
   "outputs": [],
   "source": [
    "dnaA = skbio.io.read('dnaA.fa', format = 'fasta', into = skbio.sequence.DNA)\n",
    "dnaA"
   ]
  },
  {
   "cell_type": "markdown",
   "metadata": {},
   "source": [
    "The above DNA object holds attributes such as a description and an ID. We can compute the complement of this sequence, transcribe it and translate it using functions from the scikit-bio library. For more information on all the functions and classes (DNA, RNA, etc.) the library provides, read the [documentation page](http://scikit-bio.org/docs/0.5.1/index.html)."
   ]
  },
  {
   "cell_type": "code",
   "execution_count": null,
   "metadata": {},
   "outputs": [],
   "source": [
    "dnaA.complement()"
   ]
  },
  {
   "cell_type": "code",
   "execution_count": null,
   "metadata": {},
   "outputs": [],
   "source": [
    "dnaA.reverse_complement()"
   ]
  },
  {
   "cell_type": "markdown",
   "metadata": {},
   "source": [
    "Note that `reverse_complement` is different to `complement`"
   ]
  },
  {
   "cell_type": "code",
   "execution_count": null,
   "metadata": {},
   "outputs": [],
   "source": [
    "dnaA.transcribe()"
   ]
  },
  {
   "cell_type": "code",
   "execution_count": null,
   "metadata": {},
   "outputs": [],
   "source": [
    "dnaA.translate()"
   ]
  },
  {
   "cell_type": "code",
   "execution_count": null,
   "metadata": {},
   "outputs": [],
   "source": [
    "list(dnaA.translate_six_frames())"
   ]
  },
  {
   "cell_type": "markdown",
   "metadata": {},
   "source": [
    "<br>\n",
    "\n",
    "<br>\n",
    "\n",
    "# If you get stuck\n",
    "\n",
    "There are many creative solutions for these tasks, but here are some coding tips that may help.\n"
   ]
  },
  {
   "cell_type": "markdown",
   "metadata": {},
   "source": [
    "## Making dictionaries"
   ]
  },
  {
   "cell_type": "markdown",
   "metadata": {},
   "source": [
    "Python dictionaries can be made quickly using `dict(zip())`. "
   ]
  },
  {
   "cell_type": "markdown",
   "metadata": {},
   "source": [
    "`zip()` can be used to group elements of multiple lists together,\n",
    "while `dict()` can be used to create a dictionary."
   ]
  },
  {
   "cell_type": "code",
   "execution_count": null,
   "metadata": {},
   "outputs": [],
   "source": [
    "bases = [\"A\", \"T\", \"C\", \"G\"]\n",
    "complements = [\"T\", \"A\", \"G\", \"C\"]"
   ]
  },
  {
   "cell_type": "code",
   "execution_count": null,
   "metadata": {},
   "outputs": [],
   "source": [
    "complement_dict = dict(zip(bases, complements))\n",
    "complement_dict"
   ]
  },
  {
   "cell_type": "markdown",
   "metadata": {},
   "source": [
    "\n",
    "## Iterating over lists or strings\n",
    "\n",
    "For loops are easy to understand and are clear to the reader, but there can be more efficient ways to achieve an equivalent outcome."
   ]
  },
  {
   "cell_type": "markdown",
   "metadata": {},
   "source": [
    "For example, the in-built Python function `str.replace()` can be used to iterate over elements of a string."
   ]
  },
  {
   "cell_type": "markdown",
   "metadata": {},
   "source": [
    "\n",
    "## The OS library\n",
    "\n",
    "Sometimes you may have trouble specifying paths to important files such as `dnaA.fa`."
   ]
  },
  {
   "cell_type": "markdown",
   "metadata": {},
   "source": [
    "The `os` library can be useful for this. You can read more about it here https://docs.python.org/3/library/os.html"
   ]
  },
  {
   "cell_type": "markdown",
   "metadata": {},
   "source": [
    "`os` should come already installed so all you need to do is `import os`. Then you can use functions such as `getcwd()` to retrieve the current working directory (cwd)"
   ]
  },
  {
   "cell_type": "code",
   "execution_count": null,
   "metadata": {},
   "outputs": [],
   "source": [
    "import os\n",
    "os.getcwd() "
   ]
  },
  {
   "cell_type": "markdown",
   "metadata": {},
   "source": [
    "<br>\n",
    "\n",
    "<br>\n",
    "\n",
    "`Workshop developed by Steven Morgan, Dr Dieter Bulach and Dharmesh Bhuva.`"
   ]
  }
 ],
 "metadata": {
  "kernelspec": {
   "display_name": "Python 3",
   "language": "python",
   "name": "python3"
  },
  "language_info": {
   "codemirror_mode": {
    "name": "ipython",
    "version": 3
   },
   "file_extension": ".py",
   "mimetype": "text/x-python",
   "name": "python",
   "nbconvert_exporter": "python",
   "pygments_lexer": "ipython3",
   "version": "3.8.5"
  }
 },
 "nbformat": 4,
 "nbformat_minor": 4
}
